{
 "cells": [
  {
   "cell_type": "markdown",
   "id": "a5c8ba65-d57f-4a96-b87f-49efc664c0a6",
   "metadata": {},
   "source": [
    "# Data Science Tools and Ecosystem"
   ]
  },
  {
   "cell_type": "markdown",
   "id": "89929470-fd49-4052-a669-1f86d1f03743",
   "metadata": {},
   "source": [
    "In this notebook, Data Science Tools are summerized."
   ]
  },
  {
   "cell_type": "markdown",
   "id": "b63b4abd-ac11-4648-ae07-b76f02ae8e46",
   "metadata": {},
   "source": [
    "**Objectives**\n",
    "- List popular Languages used by Data Scientists\n",
    "- List Libraries commonly used by Data Scientists\n",
    "- Identify arithmetic expressions\n",
    "- List popular Data Science Tools"
   ]
  },
  {
   "cell_type": "markdown",
   "id": "e32ec57f-89e1-4be9-a195-7edd71628274",
   "metadata": {},
   "source": [
    "Some popular languages that Data Scientists use are:"
   ]
  },
  {
   "cell_type": "markdown",
   "id": "e6e31c05-f40b-45c4-bec0-4e221bc9fcb0",
   "metadata": {},
   "source": [
    "1. R\n",
    "2. SQL\n",
    "3. Java\n",
    "4. Scala\n",
    "5. C++"
   ]
  },
  {
   "cell_type": "markdown",
   "id": "a2e1f573-86ea-4246-b246-b4d9685e2bfd",
   "metadata": {},
   "source": [
    "Some common libraries Data Scientists use are:\n",
    "1. Pandas\n",
    "2. Numpy\n",
    "3. Matplotlib"
   ]
  },
  {
   "cell_type": "markdown",
   "id": "fcf57f8b-b516-4204-a311-febb606e623c",
   "metadata": {},
   "source": [
    "| Data Science Tools| \n",
    "|------------------|\n",
    "| R Studio|\n",
    "| Apache Zeppelin|\n",
    "| Jupyter Notebook|"
   ]
  },
  {
   "cell_type": "markdown",
   "id": "831ebe60-1d64-40a3-8819-e40b4381c9b2",
   "metadata": {},
   "source": [
    "### Below are a few examples of evaluating arithmetic expressions in Python."
   ]
  },
  {
   "cell_type": "code",
   "execution_count": 4,
   "id": "e9ac4db0-c499-4633-ac1a-210b22f26037",
   "metadata": {},
   "outputs": [
    {
     "data": {
      "text/plain": [
       "17"
      ]
     },
     "execution_count": 4,
     "metadata": {},
     "output_type": "execute_result"
    }
   ],
   "source": [
    "# The following is a simple arithmetic expression to multiply then add integers \n",
    "(3*4)+5"
   ]
  },
  {
   "cell_type": "code",
   "execution_count": 5,
   "id": "f40f7637-c38e-497d-a70b-4a8c3b986647",
   "metadata": {},
   "outputs": [
    {
     "data": {
      "text/plain": [
       "3.3333333333333335"
      ]
     },
     "execution_count": 5,
     "metadata": {},
     "output_type": "execute_result"
    }
   ],
   "source": [
    "# This following expression will convert 200 minutes into hours by dividing by 60\n",
    "200/60"
   ]
  },
  {
   "cell_type": "markdown",
   "id": "7d4e384f-f1f0-4ccd-b0d2-55e7e8fc2445",
   "metadata": {},
   "source": [
    "## Author\n",
    "Dianna Ramirez-Cordova"
   ]
  }
 ],
 "metadata": {
  "kernelspec": {
   "display_name": "Python 3 (ipykernel)",
   "language": "python",
   "name": "python3"
  },
  "language_info": {
   "codemirror_mode": {
    "name": "ipython",
    "version": 3
   },
   "file_extension": ".py",
   "mimetype": "text/x-python",
   "name": "python",
   "nbconvert_exporter": "python",
   "pygments_lexer": "ipython3",
   "version": "3.12.8"
  }
 },
 "nbformat": 4,
 "nbformat_minor": 5
}
